{
  "nbformat": 4,
  "nbformat_minor": 0,
  "metadata": {
    "colab": {
      "provenance": [],
      "machine_shape": "hm",
      "gpuType": "A100"
    },
    "kernelspec": {
      "name": "python3",
      "display_name": "Python 3"
    },
    "language_info": {
      "name": "python"
    },
    "accelerator": "GPU"
  },
  "cells": [
    {
      "cell_type": "code",
      "execution_count": null,
      "metadata": {
        "id": "5WWw10wPdsB_"
      },
      "outputs": [],
      "source": [
        "import pandas as pd\n",
        "import numpy as np\n",
        "import matplotlib\n",
        "import matplotlib.pyplot as plt\n",
        "import matplotlib.image as mpimg\n",
        "import seaborn as sns\n",
        "\n",
        "import os\n",
        "import joblib\n",
        "\n",
        "import tensorflow as tf\n",
        "import re\n",
        "import random\n",
        "import tf_keras\n",
        "from tf_keras.callbacks import EarlyStopping  # Use tf.keras.callbacks\n",
        "import kagglehub\n",
        "import zipfile\n",
        "from transformers import TFAutoModel\n",
        "import shutil"
      ]
    },
    {
      "cell_type": "markdown",
      "source": [
        "## Downloading the data"
      ],
      "metadata": {
        "id": "QZPuH5i_d33t"
      }
    },
    {
      "cell_type": "code",
      "source": [
        "def download_and_extract_data(filename=\"output_latest\", filename_output=\"output\"):\n",
        "    \"\"\"\n",
        "    Downloads, extracts, and deletes a zip file if it doesn't already exist.\n",
        "\n",
        "    Args:\n",
        "        filename: The name of the zip file to download.\n",
        "        filename_output: The name of the folder to extract the contents to.\n",
        "    \"\"\"\n",
        "    if not os.path.exists(filename_output):\n",
        "        try:\n",
        "            # Download the .zip file\n",
        "            print(f\"Downloading '{filename}'...\")\n",
        "            # Get the actual downloaded file path\n",
        "            downloaded_file_path = kagglehub.dataset_download(\"sulimantadros/multiple-pairs-datasets-hourly\")\n",
        "\n",
        "            # Rename if necessary (if kagglehub returns a different name)\n",
        "            if downloaded_file_path != filename:\n",
        "                os.rename(downloaded_file_path, filename)\n",
        "                print(f\"Renamed downloaded file to '{filename}'\")\n",
        "\n",
        "        except Exception as e:\n",
        "            print(f\"An error occurred: {e}\")\n",
        "    else:\n",
        "        print(f\"File '{filename_output}' already exists. Skipping download and extraction.\")\n",
        "\n",
        "download_and_extract_data(filename=\"output_latest.zip\", filename_output=\"output\")"
      ],
      "metadata": {
        "colab": {
          "base_uri": "https://localhost:8080/"
        },
        "id": "j7VPS5O0d2SN",
        "outputId": "a4fd5543-a128-450c-e9fc-0a6bfd4e2aa6"
      },
      "execution_count": null,
      "outputs": [
        {
          "output_type": "stream",
          "name": "stdout",
          "text": [
            "Downloading 'output_latest.zip'...\n",
            "Downloading from https://www.kaggle.com/api/v1/datasets/download/sulimantadros/multiple-pairs-datasets-hourly?dataset_version_number=1...\n"
          ]
        },
        {
          "output_type": "stream",
          "name": "stderr",
          "text": [
            "100%|██████████| 40.4M/40.4M [00:03<00:00, 13.7MB/s]"
          ]
        },
        {
          "output_type": "stream",
          "name": "stdout",
          "text": [
            "Extracting files...\n"
          ]
        },
        {
          "output_type": "stream",
          "name": "stderr",
          "text": [
            "\n"
          ]
        },
        {
          "output_type": "stream",
          "name": "stdout",
          "text": [
            "Renamed downloaded file to 'output_latest.zip'\n"
          ]
        }
      ]
    },
    {
      "cell_type": "markdown",
      "source": [
        "## Getting the data ready for the machine learning model"
      ],
      "metadata": {
        "id": "cNByTRpOeFNh"
      }
    },
    {
      "cell_type": "code",
      "source": [
        "# Constants\n",
        "IMG_SIZE = (224, 224)\n",
        "BATCH_SIZE = 32\n",
        "SEED = 42\n",
        "\n",
        "# Directories\n",
        "original_train_dir = '/content/output_latest.zip/output_1_hour/output_hourly_price_action_patterns_training_and_validation/train'\n",
        "original_valid_dir = '/content/output_latest.zip/output_1_hour/output_hourly_price_action_patterns_training_and_validation/validation'\n",
        "original_test_dir = '/content/output_latest.zip/output_1_hour/output_hourly_price_action_patterns_testing/test'\n",
        "\n",
        "# Create balanced train dataset\n",
        "train_ds = tf_keras.utils.image_dataset_from_directory(\n",
        "    directory=original_train_dir,\n",
        "    label_mode=\"categorical\",\n",
        "    batch_size=BATCH_SIZE,\n",
        "    image_size=IMG_SIZE,\n",
        "    shuffle=True,\n",
        "    seed=SEED\n",
        ")\n",
        "\n",
        "# Create balanced valid dataset\n",
        "valid_ds = tf_keras.utils.image_dataset_from_directory(\n",
        "    directory=original_valid_dir,\n",
        "    label_mode=\"categorical\",\n",
        "    batch_size=BATCH_SIZE,\n",
        "    image_size=IMG_SIZE,\n",
        "    shuffle=False,\n",
        "    seed=SEED\n",
        ")\n",
        "\n",
        "# Create balanced test dataset\n",
        "test_ds = tf_keras.utils.image_dataset_from_directory(\n",
        "    directory=original_test_dir,\n",
        "    label_mode=\"categorical\",\n",
        "    batch_size=BATCH_SIZE,\n",
        "    image_size=IMG_SIZE,\n",
        "    shuffle=False,\n",
        "    seed=SEED\n",
        ")\n",
        "\n",
        "class_names = train_ds.class_names\n",
        "print(\"Balanced datasets created successfully!\")"
      ],
      "metadata": {
        "colab": {
          "base_uri": "https://localhost:8080/"
        },
        "id": "ymBMIvHJeBBw",
        "outputId": "cd81d3ac-28f2-410c-837f-fc91cc910f6d"
      },
      "execution_count": null,
      "outputs": [
        {
          "output_type": "stream",
          "name": "stdout",
          "text": [
            "Found 3746 files belonging to 3 classes.\n",
            "Found 1855 files belonging to 3 classes.\n",
            "Found 1923 files belonging to 3 classes.\n",
            "Balanced datasets created successfully!\n"
          ]
        }
      ]
    },
    {
      "cell_type": "code",
      "source": [
        "AUTOTUNE = tf.data.AUTOTUNE # let TensorFlow find the best values to use automatically\n",
        "\n",
        "# Shuffle and optimize performance on training datasets\n",
        "# Note: these methods can be chained together and will have the same effect as calling them individually\n",
        "train_ds = train_ds.cache().shuffle(buffer_size=100*BATCH_SIZE).prefetch(buffer_size=AUTOTUNE)\n",
        "\n",
        "# Don't need to shuffle valid datasets (for easier evaluation)\n",
        "valid_ds = valid_ds.cache().prefetch(buffer_size=AUTOTUNE)\n",
        "\n",
        "# Don't need to shuffle test datasets (for easier evaluation)\n",
        "test_ds = test_ds.cache().prefetch(buffer_size=AUTOTUNE)"
      ],
      "metadata": {
        "id": "pQ3-aAShePNS"
      },
      "execution_count": null,
      "outputs": []
    },
    {
      "cell_type": "markdown",
      "source": [
        "## Building the machine learning model"
      ],
      "metadata": {
        "id": "dErsRxe_eay1"
      }
    },
    {
      "cell_type": "code",
      "source": [
        "def count_parameters(model, print_output=True):\n",
        "  \"\"\"\n",
        "  Counts the number of trainable, non-trainable and total parameters of a given model.\n",
        "  \"\"\"\n",
        "  trainable_parameters = np.sum([np.prod(layer.shape) for layer in model.trainable_weights])\n",
        "  non_trainable_parameters = np.sum([np.prod(layer.shape) for layer in model.non_trainable_weights])\n",
        "  total_parameters = trainable_parameters + non_trainable_parameters\n",
        "  if print_output:\n",
        "    print(f\"Model {model.name} parameter counts:\")\n",
        "    print(f\"Total parameters: {total_parameters}\")\n",
        "    print(f\"Trainable parameters: {trainable_parameters}\")\n",
        "    print(f\"Non-trainable parameters: {non_trainable_parameters}\")\n",
        "  else:\n",
        "    return total_parameters, trainable_parameters, non_trainable_parameters"
      ],
      "metadata": {
        "id": "YSgzRZvAeXu5"
      },
      "execution_count": null,
      "outputs": []
    },
    {
      "cell_type": "code",
      "source": [
        "def create_model(include_top: bool = False,\n",
        "                 num_classes: int = 1000,\n",
        "                 input_shape: tuple[int, int, int] = (224, 224, 3),\n",
        "                 include_preprocessing: bool = True,\n",
        "                 trainable: bool = False,\n",
        "                 dropout: float = 0.2,\n",
        "                 activation: str = \"softmax\",\n",
        "                 base_model: tf_keras.Model = None,\n",
        "                 model_name: str = \"model\") -> tf_keras.Model:\n",
        "  \"\"\"\n",
        "  Create an EfficientNetV2 B0 feature extractor model with a custom classifier layer.\n",
        "\n",
        "  Args:\n",
        "      include_top (bool, optional): Whether to include the top (classifier) layers of the model.\n",
        "      num_classes (int, optional): Number of output classes for the classifier layer.\n",
        "      input_shape (tuple[int, int, int], optional): Input shape for the model's images (height, width, channels).\n",
        "      include_preprocessing (bool, optional): Whether to include preprocessing layers for image normalization.\n",
        "      trainable (bool, optional): Whether to make the base model trainable.\n",
        "      dropout (float, optional): Dropout rate for the global average pooling layer.\n",
        "      activation (str, optional): Activation function for the output layer.\n",
        "      model_name (str, optional): Name for the created model.\n",
        "\n",
        "  Returns:\n",
        "      tf.keras.Model: A TensorFlow Keras model with the specified configuration.\n",
        "  \"\"\"\n",
        "  if base_model is None:\n",
        "    print('Base Model is None please enter the based model')\n",
        "    return None\n",
        "\n",
        "  if activation == \"softmax\":\n",
        "    activation = tf_keras.activations.softmax\n",
        "  elif activation == \"sigmoid\":\n",
        "    activation = tf_keras.activations.sigmoid\n",
        "\n",
        "  # Freeze the base model (if necessary)\n",
        "  base_model.trainable = trainable\n",
        "\n",
        "  # Create input layer\n",
        "  inputs = tf_keras.Input(shape=input_shape, name=\"input_layer\")\n",
        "\n",
        "  # Create model backbone (middle/hidden layers)\n",
        "  x = base_model(inputs, training=trainable)\n",
        "\n",
        "  # Create output layer (also known as \"classifier\" layer)\n",
        "  outputs = tf_keras.layers.Dense(\n",
        "      units=num_classes,\n",
        "      activation=activation,\n",
        "      name=\"output_layer\"\n",
        "  )(x)\n",
        "\n",
        "  # Connect input and output layer\n",
        "  model = tf_keras.Model(inputs=inputs, outputs=outputs, name=model_name)\n",
        "\n",
        "  return model"
      ],
      "metadata": {
        "id": "UdVhxsBGeetk"
      },
      "execution_count": null,
      "outputs": []
    },
    {
      "cell_type": "code",
      "source": [
        "from transformers import TFAutoModel\n",
        "import tensorflow as tf\n",
        "\n",
        "def create_model_transformers(model_name: str,\n",
        "                              num_classes: int = 1000,\n",
        "                              input_shape: tuple = (224, 224, 3),\n",
        "                              trainable: bool = False,\n",
        "                              dropout: float = 0.2,\n",
        "                              activation: str = \"softmax\") -> tf.keras.Model:\n",
        "    \"\"\"\n",
        "    Create a Transformer or ConvNeXt model with a custom classifier layer.\n",
        "\n",
        "    Args:\n",
        "        model_name (str): Hugging Face model name (e.g., \"facebook/convnext-xlarge-224-22k-1k\").\n",
        "        num_classes (int): Number of output classes for the classifier layer.\n",
        "        input_shape (tuple): Input shape for the model's images (height, width, channels).\n",
        "        trainable (bool): Whether to make the base model trainable.\n",
        "        dropout (float): Dropout rate for the classifier.\n",
        "        activation (str): Activation function for the classifier (\"softmax\" or \"sigmoid\").\n",
        "\n",
        "    Returns:\n",
        "        tf.keras.Model: A TensorFlow model with the specified configuration.\n",
        "    \"\"\"\n",
        "    # Load the pre-trained Hugging Face model\n",
        "    base_model = TFAutoModel.from_pretrained(model_name)\n",
        "\n",
        "    # Freeze the base model layers if not trainable\n",
        "    base_model.trainable = trainable\n",
        "\n",
        "    # Define input layer\n",
        "    inputs = tf_keras.Input(shape=input_shape, name=\"input_layer\")\n",
        "\n",
        "    # Transpose inputs if required for channels-first models\n",
        "    transposed_inputs = tf_keras.layers.Permute((3, 1, 2))(inputs)\n",
        "\n",
        "    # Pass inputs through the base model\n",
        "    base_outputs = base_model(transposed_inputs)\n",
        "\n",
        "    # Handle pooling automatically based on output shape\n",
        "    base_output_shape = base_outputs.last_hidden_state.shape.rank  # Detect number of dimensions\n",
        "\n",
        "    if base_output_shape == 3:\n",
        "        # If output is 3D (e.g., Transformers), use GlobalAveragePooling1D\n",
        "        pooled_outputs = tf_keras.layers.GlobalAveragePooling1D()(base_outputs.last_hidden_state)\n",
        "    elif base_output_shape == 4:\n",
        "        # If output is 4D (e.g., ConvNeXt), use GlobalAveragePooling2D\n",
        "        pooled_outputs = tf_keras.layers.GlobalAveragePooling2D()(base_outputs.last_hidden_state)\n",
        "    else:\n",
        "        raise ValueError(f\"Unsupported output shape rank: {base_output_shape}\")\n",
        "\n",
        "    # Apply dropout for regularization\n",
        "    if dropout > 0:\n",
        "        pooled_outputs = tf_keras.layers.Dropout(dropout)(pooled_outputs)\n",
        "\n",
        "    # Add custom classification layer\n",
        "    outputs = tf_keras.layers.Dense(\n",
        "        units=num_classes,\n",
        "        activation=activation,\n",
        "        name=\"output_layer\"\n",
        "    )(pooled_outputs)\n",
        "\n",
        "    # Build and return the final model\n",
        "    model = tf_keras.Model(inputs=inputs, outputs=outputs, name=f\"{model_name}_classifier\")\n",
        "\n",
        "    return model\n"
      ],
      "metadata": {
        "id": "fuv6RsehvPKm"
      },
      "execution_count": null,
      "outputs": []
    },
    {
      "cell_type": "code",
      "source": [
        "def plot_model_loss_curves(history: tf.keras.callbacks.History) -> None:\n",
        "  \"\"\"Takes a History object and plots loss and accuracy curves.\"\"\"\n",
        "\n",
        "  # Get the accuracy values\n",
        "  acc = history.history[\"accuracy\"]\n",
        "  val_acc = history.history[\"val_accuracy\"]\n",
        "\n",
        "  # Get the loss values\n",
        "  loss = history.history[\"loss\"]\n",
        "  val_loss = history.history[\"val_loss\"]\n",
        "\n",
        "  # Get the number of epochs\n",
        "  epochs_range = range(len(acc))\n",
        "\n",
        "  # Create accuracy curves plot\n",
        "  plt.figure(figsize=(14, 7))\n",
        "  plt.subplot(1, 2, 1)\n",
        "  plt.plot(epochs_range, acc, label=\"Training Accuracy\")\n",
        "  plt.plot(epochs_range, val_acc, label=\"Validation Accuracy\")\n",
        "  plt.legend(loc=\"lower right\")\n",
        "  plt.title(\"Training and Validation Accuracy\")\n",
        "  plt.xlabel(\"Epoch\")\n",
        "  plt.ylabel(\"Accuracy\")\n",
        "\n",
        "  # Create loss curves plot\n",
        "  plt.subplot(1, 2, 2)\n",
        "  plt.plot(epochs_range, loss, label=\"Training Loss\")\n",
        "  plt.plot(epochs_range, val_loss, label=\"Validation Loss\")\n",
        "  plt.legend(loc=\"upper right\")\n",
        "  plt.title(\"Training and Validation Loss\")\n",
        "  plt.xlabel(\"Epoch\")\n",
        "  plt.ylabel(\"Loss\")\n",
        "\n",
        "  plt.show()"
      ],
      "metadata": {
        "id": "1zawt7gG4WO2"
      },
      "execution_count": null,
      "outputs": []
    },
    {
      "cell_type": "markdown",
      "source": [
        "## Training model - Model_0"
      ],
      "metadata": {
        "id": "razsBFItelGw"
      }
    },
    {
      "cell_type": "code",
      "source": [
        "# 1. Create a model\n",
        "\n",
        "# Parameters\n",
        "include_top = False\n",
        "input_shape = (224, 224, 3)\n",
        "include_preprocessing = True\n",
        "\n",
        "# Create base model\n",
        "base_model = tf_keras.applications.ConvNeXtXLarge(\n",
        "    include_top=include_top,\n",
        "    weights=\"imagenet\",\n",
        "    input_shape=input_shape,\n",
        "    include_preprocessing=include_preprocessing,\n",
        "    pooling=\"max\"  # Can use this instead of adding tf.keras.layers.MaxPooling2D() to the model\n",
        ")\n",
        "\n",
        "# Example: Using ViT-Large/16 with ImageNet weights\n",
        "#model_name = \"facebook/convnext-xlarge-224-22k-1k\"\n",
        "\n",
        "# Create the model\n",
        "#model_0 = create_model_transformers(\n",
        "    #model_name=model_name,\n",
        "    #num_classes=len(class_names),\n",
        "    #input_shape=input_shape,\n",
        "    #trainable=False,  # Freeze pre-trained layers\n",
        "    #dropout=0.3,\n",
        "    #activation=\"softmax\"\n",
        "#)\n",
        "\n",
        "model_0 = create_model(num_classes=len(class_names), trainable=False, base_model=base_model)\n",
        "\n",
        "count_parameters(model=model_0, print_output=True)\n",
        "\n",
        "# 2. Compile the model\n",
        "model_0.compile(optimizer=tf_keras.optimizers.Adam(learning_rate=0.001),\n",
        "                loss=tf_keras.losses.CategoricalCrossentropy(from_logits=False),  # use from_logits=False if using an activation function in final layer\n",
        "                metrics=[\"accuracy\"])\n",
        "\n",
        "# Define the EarlyStopping callback\n",
        "early_stopping = tf_keras.callbacks.EarlyStopping(\n",
        "    monitor='val_accuracy',  # Metric to monitor for early stopping\n",
        "    patience=5,              # Number of epochs with no improvement before stopping\n",
        "    restore_best_weights=True  # Restore model weights from the epoch with the best value of the monitored quantity\n",
        ")\n",
        "\n",
        "# 3. Fit the model\n",
        "epochs = 1000\n",
        "history_0 = model_0.fit(\n",
        "    x=train_ds,\n",
        "    epochs=epochs,\n",
        "    validation_data=valid_ds,\n",
        "    callbacks=[early_stopping]\n",
        ")\n",
        "\n",
        "# Save the weights as a .keras file\n",
        "weights_save_path = \"model_0_weights_fine_tuened.keras\"\n",
        "\n",
        "# Save only the weights\n",
        "model_0.save_weights(weights_save_path, save_format=\"h5\")\n",
        "print(f\"Weights saved to {weights_save_path}\")"
      ],
      "metadata": {
        "colab": {
          "base_uri": "https://localhost:8080/"
        },
        "id": "loHbcRwxegJH",
        "outputId": "6db7be2e-e592-4166-a144-d459f4611d60",
        "collapsed": true
      },
      "execution_count": null,
      "outputs": [
        {
          "output_type": "stream",
          "name": "stdout",
          "text": [
            "Model model parameter counts:\n",
            "Total parameters: 348154115\n",
            "Trainable parameters: 6147\n",
            "Non-trainable parameters: 348147968\n",
            "Epoch 1/1000\n",
            "118/118 [==============================] - 53s 326ms/step - loss: 0.9023 - accuracy: 0.6014 - val_loss: 0.6881 - val_accuracy: 0.7116\n",
            "Epoch 2/1000\n",
            "118/118 [==============================] - 28s 241ms/step - loss: 0.6167 - accuracy: 0.7347 - val_loss: 0.5882 - val_accuracy: 0.7526\n",
            "Epoch 3/1000\n",
            "118/118 [==============================] - 28s 235ms/step - loss: 0.5487 - accuracy: 0.7758 - val_loss: 0.5947 - val_accuracy: 0.7482\n",
            "Epoch 4/1000\n",
            "118/118 [==============================] - 28s 235ms/step - loss: 0.5175 - accuracy: 0.7867 - val_loss: 0.5491 - val_accuracy: 0.7488\n",
            "Epoch 5/1000\n",
            "118/118 [==============================] - 28s 241ms/step - loss: 0.4937 - accuracy: 0.7939 - val_loss: 0.5695 - val_accuracy: 0.7655\n",
            "Epoch 6/1000\n",
            "118/118 [==============================] - 28s 235ms/step - loss: 0.4709 - accuracy: 0.8062 - val_loss: 0.5486 - val_accuracy: 0.7456\n",
            "Epoch 7/1000\n",
            "118/118 [==============================] - 28s 241ms/step - loss: 0.4282 - accuracy: 0.8308 - val_loss: 0.5310 - val_accuracy: 0.7687\n",
            "Epoch 8/1000\n",
            "118/118 [==============================] - 28s 241ms/step - loss: 0.4017 - accuracy: 0.8444 - val_loss: 0.5280 - val_accuracy: 0.7817\n",
            "Epoch 9/1000\n",
            "118/118 [==============================] - 28s 235ms/step - loss: 0.3862 - accuracy: 0.8508 - val_loss: 0.5475 - val_accuracy: 0.7720\n",
            "Epoch 10/1000\n",
            "118/118 [==============================] - 28s 241ms/step - loss: 0.3951 - accuracy: 0.8428 - val_loss: 0.5451 - val_accuracy: 0.7844\n",
            "Epoch 11/1000\n",
            "118/118 [==============================] - 28s 235ms/step - loss: 0.3733 - accuracy: 0.8556 - val_loss: 0.5966 - val_accuracy: 0.7127\n",
            "Epoch 12/1000\n",
            "118/118 [==============================] - 28s 235ms/step - loss: 0.3711 - accuracy: 0.8526 - val_loss: 0.5374 - val_accuracy: 0.7725\n",
            "Epoch 13/1000\n",
            "118/118 [==============================] - 28s 235ms/step - loss: 0.3524 - accuracy: 0.8657 - val_loss: 0.5523 - val_accuracy: 0.7553\n",
            "Epoch 14/1000\n",
            "118/118 [==============================] - 28s 235ms/step - loss: 0.3440 - accuracy: 0.8657 - val_loss: 0.5332 - val_accuracy: 0.7747\n",
            "Epoch 15/1000\n",
            "118/118 [==============================] - 28s 235ms/step - loss: 0.3302 - accuracy: 0.8743 - val_loss: 0.5934 - val_accuracy: 0.7170\n",
            "Weights saved to model_0_weights_fine_tuened.keras\n"
          ]
        }
      ]
    },
    {
      "cell_type": "code",
      "source": [
        "plot_model_loss_curves(history=history_0)"
      ],
      "metadata": {
        "colab": {
          "base_uri": "https://localhost:8080/",
          "height": 641
        },
        "id": "BqRNFO7yeqCU",
        "outputId": "90d0235e-2002-4d05-cc71-c44ee473ba5d"
      },
      "execution_count": null,
      "outputs": [
        {
          "output_type": "display_data",
          "data": {
            "text/plain": [
              "<Figure size 1400x700 with 2 Axes>"
            ],
            "image/png": "[encoded data removed]"
          },
          "metadata": {}
        }
      ]
    },
    {
      "cell_type": "code",
      "source": [
        "model_0_results = model_0.evaluate(x=test_ds)\n",
        "model_0_results"
      ],
      "metadata": {
        "id": "-D1dYllReuMw",
        "colab": {
          "base_uri": "https://localhost:8080/"
        },
        "outputId": "3ed40650-ecfb-4f02-9aa7-6c050392f19b"
      },
      "execution_count": null,
      "outputs": [
        {
          "output_type": "stream",
          "name": "stdout",
          "text": [
            "61/61 [==============================] - 12s 193ms/step - loss: 0.5771 - accuracy: 0.7826\n"
          ]
        },
        {
          "output_type": "execute_result",
          "data": {
            "text/plain": [
              "[0.5771481990814209, 0.7826312780380249]"
            ]
          },
          "metadata": {},
          "execution_count": 13
        }
      ]
    }
  ]
}