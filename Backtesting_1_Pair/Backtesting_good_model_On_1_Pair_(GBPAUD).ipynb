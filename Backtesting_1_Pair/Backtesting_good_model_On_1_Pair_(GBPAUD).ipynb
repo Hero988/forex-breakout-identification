{
  "nbformat": 4,
  "nbformat_minor": 0,
  "metadata": {
    "colab": {
      "provenance": [],
      "machine_shape": "hm",
      "gpuType": "L4"
    },
    "kernelspec": {
      "name": "python3",
      "display_name": "Python 3"
    },
    "language_info": {
      "name": "python"
    },
    "accelerator": "GPU"
  },
  "cells": [
    {
      "cell_type": "markdown",
      "source": [
        "## Imports"
      ],
      "metadata": {
        "id": "ediGIHL-knkU"
      }
    },
    {
      "cell_type": "code",
      "execution_count": 21,
      "metadata": {
        "id": "X6H1fRNLkiZr"
      },
      "outputs": [],
      "source": [
        "import pandas as pd\n",
        "import numpy as np\n",
        "import matplotlib\n",
        "import matplotlib.pyplot as plt\n",
        "import matplotlib.image as mpimg\n",
        "import seaborn as sns\n",
        "\n",
        "import os\n",
        "import joblib\n",
        "\n",
        "import tensorflow as tf\n",
        "import re\n",
        "import random\n",
        "import tf_keras\n",
        "from tf_keras.callbacks import EarlyStopping  # Use tf.keras.callbacks\n",
        "import kagglehub\n",
        "import zipfile\n",
        "from transformers import TFAutoModel\n",
        "import shutil\n",
        "from datetime import timedelta\n",
        "try:\n",
        "  import mplfinance as mpf\n",
        "except:\n",
        "  !pip install mplfinance\n",
        "  import mplfinance as mpf\n",
        "import io\n",
        "from PIL import Image\n",
        "from datetime import timedelta"
      ]
    },
    {
      "cell_type": "markdown",
      "source": [
        "## Downloading the data (Model Never Seen)"
      ],
      "metadata": {
        "id": "k9meToFpkpZ1"
      }
    },
    {
      "cell_type": "code",
      "source": [
        "def download_and_extract_data(filename=\"output_latest\", filename_output=\"output\"):\n",
        "    \"\"\"\n",
        "    Downloads, extracts, and deletes a zip file if it doesn't already exist.\n",
        "\n",
        "    Args:\n",
        "        filename: The name of the zip file to download.\n",
        "        filename_output: The name of the folder to extract the contents to.\n",
        "    \"\"\"\n",
        "    if not os.path.exists(filename_output):\n",
        "        try:\n",
        "            # Download the .zip file\n",
        "            print(f\"Downloading '{filename}'...\")\n",
        "            # Get the actual downloaded file path\n",
        "            downloaded_file_path = kagglehub.dataset_download(\"sulimantadros/gbpaud-latest-data-17\")\n",
        "\n",
        "            # Rename if necessary (if kagglehub returns a different name)\n",
        "            if downloaded_file_path != filename:\n",
        "                os.rename(downloaded_file_path, filename)\n",
        "                print(f\"Renamed downloaded file to '{filename}'\")\n",
        "\n",
        "        except Exception as e:\n",
        "            print(f\"An error occurred: {e}\")\n",
        "    else:\n",
        "        print(f\"File '{filename_output}' already exists. Skipping download and extraction.\")\n",
        "\n",
        "download_and_extract_data(filename=\"output_latest.zip\", filename_output=\"output\")"
      ],
      "metadata": {
        "colab": {
          "base_uri": "https://localhost:8080/"
        },
        "id": "xzlYb8RPkm-I",
        "outputId": "b00d7449-9808-48fb-b8cc-5315ab83894e"
      },
      "execution_count": 45,
      "outputs": [
        {
          "output_type": "stream",
          "name": "stdout",
          "text": [
            "Downloading 'output_latest.zip'...\n",
            "Downloading from https://www.kaggle.com/api/v1/datasets/download/sulimantadros/gbpaud-latest-data-17?dataset_version_number=1...\n"
          ]
        },
        {
          "output_type": "stream",
          "name": "stderr",
          "text": [
            "100%|██████████| 2.11M/2.11M [00:01<00:00, 1.90MB/s]"
          ]
        },
        {
          "output_type": "stream",
          "name": "stdout",
          "text": [
            "Extracting files...\n"
          ]
        },
        {
          "output_type": "stream",
          "name": "stderr",
          "text": [
            "\n"
          ]
        },
        {
          "output_type": "stream",
          "name": "stdout",
          "text": [
            "An error occurred: [Errno 39] Directory not empty: '/root/.cache/kagglehub/datasets/sulimantadros/gbpaud-latest-data-17/versions/1' -> 'output_latest.zip'\n"
          ]
        }
      ]
    },
    {
      "cell_type": "markdown",
      "source": [
        "## Download and load the data it was trained on to get variables"
      ],
      "metadata": {
        "id": "wP-b-_WL6f8i"
      }
    },
    {
      "cell_type": "code",
      "source": [
        "def download_and_extract_data_1(filename=\"output_latest\", filename_output=\"output\"):\n",
        "    \"\"\"\n",
        "    Downloads, extracts, and deletes a zip file if it doesn't already exist.\n",
        "\n",
        "    Args:\n",
        "        filename: The name of the zip file to download.\n",
        "        filename_output: The name of the folder to extract the contents to.\n",
        "    \"\"\"\n",
        "    if not os.path.exists(filename_output):\n",
        "        try:\n",
        "            # Download the .zip file\n",
        "            print(f\"Downloading '{filename}'...\")\n",
        "            # Get the actual downloaded file path\n",
        "            downloaded_file_path = kagglehub.dataset_download(\"sulimantadros/updated-logic-5-minute-forex-1000-datapoints\")\n",
        "\n",
        "            # Rename if necessary (if kagglehub returns a different name)\n",
        "            if downloaded_file_path != filename:\n",
        "                os.rename(downloaded_file_path, filename)\n",
        "                print(f\"Renamed downloaded file to '{filename}'\")\n",
        "\n",
        "        except Exception as e:\n",
        "            print(f\"An error occurred: {e}\")\n",
        "    else:\n",
        "        print(f\"File '{filename_output}' already exists. Skipping download and extraction.\")\n",
        "\n",
        "download_and_extract_data_1(filename=\"output_latest_1.zip\", filename_output=\"output\")\n",
        "\n",
        "# Constants\n",
        "IMG_SIZE = (224, 224)\n",
        "BATCH_SIZE = 32\n",
        "SEED = 42\n",
        "\n",
        "# Directories\n",
        "original_train_dir = '/content/output_latest_1.zip/output_updated_logic_5_minute_forex_data/output_hourly_price_action_patterns_training_and_validation/train'\n",
        "original_valid_dir = '/content/output_latest_1.zip/output_updated_logic_5_minute_forex_data/output_hourly_price_action_patterns_training_and_validation/validation'\n",
        "original_test_dir = '/content/output_latest_1.zip/output_updated_logic_5_minute_forex_data/output_hourly_price_action_patterns_testing/test'\n",
        "\n",
        "# Create balanced test dataset\n",
        "test_ds = tf_keras.utils.image_dataset_from_directory(\n",
        "    directory=original_test_dir,\n",
        "    label_mode=\"categorical\",\n",
        "    batch_size=BATCH_SIZE,\n",
        "    image_size=IMG_SIZE,\n",
        "    shuffle=False,\n",
        "    seed=SEED\n",
        ")\n",
        "\n",
        "class_names = test_ds.class_names\n",
        "file_paths = test_ds.file_paths"
      ],
      "metadata": {
        "colab": {
          "base_uri": "https://localhost:8080/"
        },
        "id": "tFOX33XW6nK_",
        "outputId": "ad8f9fe0-0c59-4ad0-dd53-0cc5624456e8"
      },
      "execution_count": 44,
      "outputs": [
        {
          "output_type": "stream",
          "name": "stdout",
          "text": [
            "Downloading 'output_latest_1.zip'...\n",
            "Renamed downloaded file to 'output_latest_1.zip'\n",
            "Found 3670 files belonging to 3 classes.\n"
          ]
        }
      ]
    },
    {
      "cell_type": "markdown",
      "source": [
        "## Building the machine learning model"
      ],
      "metadata": {
        "id": "u46CjL8EoEGX"
      }
    },
    {
      "cell_type": "code",
      "source": [
        "def count_parameters(model, print_output=True):\n",
        "  \"\"\"\n",
        "  Counts the number of trainable, non-trainable and total parameters of a given model.\n",
        "  \"\"\"\n",
        "  trainable_parameters = np.sum([np.prod(layer.shape) for layer in model.trainable_weights])\n",
        "  non_trainable_parameters = np.sum([np.prod(layer.shape) for layer in model.non_trainable_weights])\n",
        "  total_parameters = trainable_parameters + non_trainable_parameters\n",
        "  if print_output:\n",
        "    print(f\"Model {model.name} parameter counts:\")\n",
        "    print(f\"Total parameters: {total_parameters}\")\n",
        "    print(f\"Trainable parameters: {trainable_parameters}\")\n",
        "    print(f\"Non-trainable parameters: {non_trainable_parameters}\")\n",
        "  else:\n",
        "    return total_parameters, trainable_parameters, non_trainable_parameters"
      ],
      "metadata": {
        "id": "47XB7_mRoIoF"
      },
      "execution_count": 23,
      "outputs": []
    },
    {
      "cell_type": "code",
      "source": [
        "def create_model(include_top: bool = False,\n",
        "                 num_classes: int = 1000,\n",
        "                 input_shape: tuple[int, int, int] = (224, 224, 3),\n",
        "                 include_preprocessing: bool = True,\n",
        "                 trainable: bool = False,\n",
        "                 dropout: float = 0.2,\n",
        "                 activation: str = \"softmax\",\n",
        "                 base_model: tf_keras.Model = None,\n",
        "                 model_name: str = \"model\") -> tf_keras.Model:\n",
        "  \"\"\"\n",
        "  Create an EfficientNetV2 B0 feature extractor model with a custom classifier layer.\n",
        "\n",
        "  Args:\n",
        "      include_top (bool, optional): Whether to include the top (classifier) layers of the model.\n",
        "      num_classes (int, optional): Number of output classes for the classifier layer.\n",
        "      input_shape (tuple[int, int, int], optional): Input shape for the model's images (height, width, channels).\n",
        "      include_preprocessing (bool, optional): Whether to include preprocessing layers for image normalization.\n",
        "      trainable (bool, optional): Whether to make the base model trainable.\n",
        "      dropout (float, optional): Dropout rate for the global average pooling layer.\n",
        "      activation (str, optional): Activation function for the output layer.\n",
        "      model_name (str, optional): Name for the created model.\n",
        "\n",
        "  Returns:\n",
        "      tf.keras.Model: A TensorFlow Keras model with the specified configuration.\n",
        "  \"\"\"\n",
        "  if base_model is None:\n",
        "    print('Base Model is None please enter the based model')\n",
        "    return None\n",
        "\n",
        "  if activation == \"softmax\":\n",
        "    activation = tf_keras.activations.softmax\n",
        "  elif activation == \"sigmoid\":\n",
        "    activation = tf_keras.activations.sigmoid\n",
        "\n",
        "  # Freeze the base model (if necessary)\n",
        "  base_model.trainable = trainable\n",
        "\n",
        "  # Create input layer\n",
        "  inputs = tf_keras.Input(shape=input_shape, name=\"input_layer\")\n",
        "\n",
        "  # Create model backbone (middle/hidden layers)\n",
        "  x = base_model(inputs, training=trainable)\n",
        "\n",
        "  # Create output layer (also known as \"classifier\" layer)\n",
        "  outputs = tf_keras.layers.Dense(\n",
        "      units=num_classes,\n",
        "      activation=activation,\n",
        "      name=\"output_layer\"\n",
        "  )(x)\n",
        "\n",
        "  # Connect input and output layer\n",
        "  model = tf_keras.Model(inputs=inputs, outputs=outputs, name=model_name)\n",
        "\n",
        "  return model"
      ],
      "metadata": {
        "id": "-ihVx7TopF-A"
      },
      "execution_count": 24,
      "outputs": []
    },
    {
      "cell_type": "markdown",
      "source": [
        "## Loading the machine learning model"
      ],
      "metadata": {
        "id": "bdY3ivnmpIZu"
      }
    },
    {
      "cell_type": "code",
      "source": [
        "# Download the model from Kaggle\n",
        "model_0_loaded_path = kagglehub.model_download(\"sulimantadros/updated_logic_5_minute_forex_convnextxlarge_88/tensorFlow2/default\")\n",
        "\n",
        "# Move the downloaded directory to the current directory\n",
        "destination_dir = \"./model_0\"\n",
        "if not os.path.exists(destination_dir):\n",
        "    shutil.move(model_0_loaded_path, destination_dir)\n",
        "\n",
        "# Full path to the .keras model file\n",
        "# Parameters\n",
        "model_0_file = os.path.join(destination_dir, \"1\", \"model_0.keras\")\n",
        "include_top = False\n",
        "input_shape = (224, 224, 3)\n",
        "include_preprocessing = True\n",
        "\n",
        "# 1. Create a model\n",
        "base_model = tf_keras.applications.ConvNeXtXLarge(\n",
        "    include_top=include_top,\n",
        "    weights=\"imagenet\",\n",
        "    input_shape=input_shape,\n",
        "    include_preprocessing=include_preprocessing,\n",
        "    pooling=\"max\"  # Can use this instead of adding tf.keras.layers.MaxPooling2D() to the model\n",
        ")\n",
        "model_0_loaded_kaggle = create_model(num_classes=len(class_names), trainable=False, base_model=base_model)\n",
        "\n",
        "# 2. Compile the model\n",
        "model_0_loaded_kaggle.compile(optimizer=tf_keras.optimizers.Adam(learning_rate=0.001),\n",
        "                loss=tf_keras.losses.CategoricalCrossentropy(from_logits=False),  # use from_logits=False if using an activation function in final layer\n",
        "                metrics=[\"accuracy\"])"
      ],
      "metadata": {
        "id": "3wIhUS0IpH8O"
      },
      "execution_count": 46,
      "outputs": []
    },
    {
      "cell_type": "markdown",
      "source": [
        "## Setting up the backtest and getting the signals from model\n",
        "\n"
      ],
      "metadata": {
        "id": "xZckoiJwpprC"
      }
    },
    {
      "cell_type": "code",
      "source": [
        "# Path to the folder containing CSV files\n",
        "data_folder = \"/content/output_latest.zip/data\"\n",
        "\n",
        "# Initialize results\n",
        "results = []\n",
        "print('Starting Loop')\n",
        "\n",
        "# Iterate through each CSV file in the folder\n",
        "for file_name in os.listdir(data_folder):\n",
        "    if file_name.endswith(\".csv\"):\n",
        "        # Extract symbol and time from the file name\n",
        "        symbol, timestamp = file_name.split(\"_\")\n",
        "        timestamp = timestamp.replace(\".csv\", \"\")\n",
        "\n",
        "        # Load the CSV file\n",
        "        file_path = os.path.join(data_folder, file_name)\n",
        "        df = pd.read_csv(file_path)\n",
        "\n",
        "        # Ensure the 'time' column is a datetime object\n",
        "        df['time'] = pd.to_datetime(df['time'])\n",
        "        df.set_index('time', inplace=True)\n",
        "\n",
        "        # Select the first 12 data points for the graph\n",
        "        prediction_window = df.iloc[-17:-5]\n",
        "        if len(prediction_window) < 12:\n",
        "            print(f\"File {file_name} has insufficient data. Skipping.\")\n",
        "            continue\n",
        "\n",
        "        # Generate the graph for the first 12 data points\n",
        "        df_chart = prediction_window[['open', 'high', 'low', 'close']].apply(pd.to_numeric, errors='coerce').dropna()\n",
        "        fig, ax = plt.subplots()\n",
        "        mpf.plot(df_chart, type='candle', style='charles', ax=ax)\n",
        "        ax.get_xaxis().set_visible(False)\n",
        "        ax.get_yaxis().set_visible(False)\n",
        "        ax.spines['top'].set_visible(False)\n",
        "        ax.spines['right'].set_visible(False)\n",
        "        ax.spines['left'].set_visible(False)\n",
        "        ax.spines['bottom'].set_visible(False)\n",
        "\n",
        "        # Save the image to an in-memory buffer\n",
        "        buf = io.BytesIO()\n",
        "        plt.savefig(buf, format='png', dpi=100, bbox_inches='tight', pad_inches=0)\n",
        "        buf.seek(0)  # Reset buffer position\n",
        "        plt.close()\n",
        "\n",
        "        # Open the image using PIL and resize it to 224x224\n",
        "        img = Image.open(buf).convert(\"RGB\")\n",
        "        img_resized = img.resize((224, 224))\n",
        "\n",
        "        # Display the resized image using matplotlib\n",
        "        #plt.figure(figsize=(4, 4))  # Set the figure size (optional)\n",
        "        #plt.imshow(img_resized)\n",
        "        #plt.axis('off')  # Turn off axes\n",
        "        #plt.show();\n",
        "\n",
        "        # Convert the resized image to a NumPy array\n",
        "        custom_image_tensor = tf.keras.utils.img_to_array(img_resized)\n",
        "\n",
        "        # Add a batch dimension to the target tensor (e.g., (224, 224, 3) -> (1, 224, 224, 3))\n",
        "        custom_image_tensor = tf.expand_dims(custom_image_tensor, axis=0)\n",
        "\n",
        "        # Normalize the image to [0, 1] range if your model expects normalized inputs\n",
        "        custom_image_tensor = custom_image_tensor / 255.0\n",
        "\n",
        "        # Make a prediction with the target model\n",
        "        pred_probs = model_0_loaded_kaggle.predict(custom_image_tensor, verbose=0)\n",
        "\n",
        "        # Decode the predicted class\n",
        "        pred_class = class_names[tf.argmax(pred_probs, axis=-1).numpy()[0]]\n",
        "        #print(f\"Predicted class {pred_class} with pred prob {pred_probs}\")\n",
        "\n",
        "        # Record the result with the 12th candle's time and predicted class\n",
        "        results.append({\n",
        "            \"symbol\": symbol,\n",
        "            \"time\": prediction_window.index[-1],  # Time of the 12th candle\n",
        "            \"predicted_class\": pred_class\n",
        "        })\n",
        "\n",
        "        # Cleanup memory\n",
        "        buf.close()\n",
        "        del img\n",
        "        del img_resized\n",
        "\n",
        "# Convert results to a DataFrame\n",
        "results_df = pd.DataFrame(results)\n",
        "\n",
        "# Save the results to a CSV file for further analysis\n",
        "output_file = \"/content/model_predictions.csv\"\n",
        "results_df.to_csv(output_file, index=False)\n",
        "\n",
        "print(\"Results saved to\", output_file)"
      ],
      "metadata": {
        "colab": {
          "base_uri": "https://localhost:8080/"
        },
        "id": "wXuDAAUmpsW3",
        "outputId": "3ef8c60b-60cd-401b-d512-982c1ec39d9c"
      },
      "execution_count": 56,
      "outputs": [
        {
          "output_type": "stream",
          "name": "stdout",
          "text": [
            "Starting Loop\n",
            "Results saved to /content/model_predictions.csv\n"
          ]
        }
      ]
    },
    {
      "cell_type": "code",
      "source": [
        "# Count occurrences of each predicted_class\n",
        "class_counts = results_df['predicted_class'].value_counts()\n",
        "\n",
        "# Print the counts\n",
        "print(class_counts)\n",
        "\n",
        "# Specifically count 'bullish_breakout' and 'bearish_breakout'\n",
        "bullish_count = class_counts.get('bullish_breakout', 0)\n",
        "bearish_count = class_counts.get('bearish_breakout', 0)\n",
        "\n",
        "print(f\"Number of 'bullish_breakout': {bullish_count}\")\n",
        "print(f\"Number of 'bearish_breakout': {bearish_count}\")"
      ],
      "metadata": {
        "colab": {
          "base_uri": "https://localhost:8080/"
        },
        "id": "kG-LGt35tSNt",
        "outputId": "230eb1d7-60d6-4ca7-c16b-529b725b2560"
      },
      "execution_count": 58,
      "outputs": [
        {
          "output_type": "stream",
          "name": "stdout",
          "text": [
            "predicted_class\n",
            "no_breakout         4071\n",
            "bearish_breakout      42\n",
            "Name: count, dtype: int64\n",
            "Number of 'bullish_breakout': 0\n",
            "Number of 'bearish_breakout': 42\n"
          ]
        }
      ]
    },
    {
      "cell_type": "code",
      "source": [
        "# Paths\n",
        "data_folder = \"/content/output_latest.zip/data\"\n",
        "output_csv = \"/content/predicted_classes_files.csv\"\n",
        "\n",
        "# Filter results_df for 'bullish_breakout' or 'bearish_breakout'\n",
        "filtered_results = results_df[\n",
        "    results_df['predicted_class'].isin(['bullish_breakout', 'bearish_breakout'])\n",
        "]\n",
        "\n",
        "# Initialize a list to store the results\n",
        "matched_files = []\n",
        "total_results = len(filtered_results)  # Total number of results to find\n",
        "\n",
        "# Iterate through each filtered row\n",
        "for _, row in filtered_results.iterrows():\n",
        "    target_symbol = row['symbol']\n",
        "    target_time = row['time']\n",
        "    predicted_class = row['predicted_class']  # Get the predicted_class from results_df\n",
        "\n",
        "    # Iterate through all CSV files in the data folder\n",
        "    for file_name in os.listdir(data_folder):\n",
        "        if file_name.endswith(\".csv\"):\n",
        "            # Extract symbol from file name\n",
        "            file_symbol, _ = file_name.split(\"_\", 1)\n",
        "            if file_symbol != target_symbol:\n",
        "                continue  # Skip files that don't match the symbol\n",
        "\n",
        "            # Load the CSV file\n",
        "            file_path = os.path.join(data_folder, file_name)\n",
        "            df = pd.read_csv(file_path)\n",
        "\n",
        "            # Ensure 'time' column is a datetime object\n",
        "            df['time'] = pd.to_datetime(df['time'])\n",
        "\n",
        "            # Check if the target_time exists in the file\n",
        "            if target_time in df['time'].values:\n",
        "                # Add the matched details to the list, including predicted_class\n",
        "                matched_files.append({\n",
        "                    'pair': target_symbol,\n",
        "                    'time': target_time,\n",
        "                    'predicted_class': predicted_class,\n",
        "                    'filename': file_path\n",
        "                })\n",
        "\n",
        "                print(f\"FOUND A MATCH: Matched {len(matched_files)} out of {total_results}\")\n",
        "\n",
        "                # Stop searching if all results are found\n",
        "                if len(matched_files) == total_results:\n",
        "                    print(\"ALL MATCHES FOUND\")\n",
        "                    break\n",
        "\n",
        "print(\"FINISHED\")\n",
        "\n",
        "# Convert the matched files list to a DataFrame\n",
        "matched_files_df = pd.DataFrame(matched_files)\n",
        "\n",
        "# Sort the DataFrame by the 'time' column\n",
        "matched_files_df['time'] = pd.to_datetime(matched_files_df['time'])\n",
        "matched_files_df = matched_files_df.sort_values(by='time', ascending=True)\n",
        "\n",
        "# Save the sorted results to a CSV\n",
        "matched_files_df.to_csv(output_csv, index=False)\n",
        "\n",
        "print(f\"Results saved to {output_csv}\")"
      ],
      "metadata": {
        "colab": {
          "base_uri": "https://localhost:8080/"
        },
        "id": "35et2xiV_tCT",
        "outputId": "d32367f8-8285-4a33-d55d-59c11fd54978"
      },
      "execution_count": 65,
      "outputs": [
        {
          "output_type": "stream",
          "name": "stdout",
          "text": [
            "FOUND A MATCH: Matched 1 out of 42\n",
            "FOUND A MATCH: Matched 2 out of 42\n",
            "FOUND A MATCH: Matched 3 out of 42\n",
            "FOUND A MATCH: Matched 4 out of 42\n",
            "FOUND A MATCH: Matched 5 out of 42\n",
            "FOUND A MATCH: Matched 6 out of 42\n",
            "FOUND A MATCH: Matched 7 out of 42\n",
            "FOUND A MATCH: Matched 8 out of 42\n",
            "FOUND A MATCH: Matched 9 out of 42\n",
            "FOUND A MATCH: Matched 10 out of 42\n",
            "FOUND A MATCH: Matched 11 out of 42\n",
            "FOUND A MATCH: Matched 12 out of 42\n",
            "FOUND A MATCH: Matched 13 out of 42\n",
            "FOUND A MATCH: Matched 14 out of 42\n",
            "FOUND A MATCH: Matched 15 out of 42\n",
            "FOUND A MATCH: Matched 16 out of 42\n",
            "FOUND A MATCH: Matched 17 out of 42\n",
            "FOUND A MATCH: Matched 18 out of 42\n",
            "FOUND A MATCH: Matched 19 out of 42\n",
            "FOUND A MATCH: Matched 20 out of 42\n",
            "FOUND A MATCH: Matched 21 out of 42\n",
            "FOUND A MATCH: Matched 22 out of 42\n",
            "FOUND A MATCH: Matched 23 out of 42\n",
            "FOUND A MATCH: Matched 24 out of 42\n",
            "FOUND A MATCH: Matched 25 out of 42\n",
            "FOUND A MATCH: Matched 26 out of 42\n",
            "FOUND A MATCH: Matched 27 out of 42\n",
            "FOUND A MATCH: Matched 28 out of 42\n",
            "FOUND A MATCH: Matched 29 out of 42\n",
            "FOUND A MATCH: Matched 30 out of 42\n",
            "FOUND A MATCH: Matched 31 out of 42\n",
            "FOUND A MATCH: Matched 32 out of 42\n",
            "FOUND A MATCH: Matched 33 out of 42\n",
            "FOUND A MATCH: Matched 34 out of 42\n",
            "FOUND A MATCH: Matched 35 out of 42\n",
            "FOUND A MATCH: Matched 36 out of 42\n",
            "FOUND A MATCH: Matched 37 out of 42\n",
            "FOUND A MATCH: Matched 38 out of 42\n",
            "FOUND A MATCH: Matched 39 out of 42\n",
            "FOUND A MATCH: Matched 40 out of 42\n",
            "FOUND A MATCH: Matched 41 out of 42\n",
            "FOUND A MATCH: Matched 42 out of 42\n",
            "ALL MATCHES FOUND\n",
            "FINISHED\n",
            "Results saved to /content/predicted_classes_files.csv\n"
          ]
        }
      ]
    },
    {
      "cell_type": "code",
      "source": [
        "import pandas as pd\n",
        "import matplotlib.pyplot as plt\n",
        "\n",
        "# Load the matched files DataFrame\n",
        "matched_files_df = pd.read_csv(\"/content/predicted_classes_files.csv\")\n",
        "\n",
        "# Initialize starting capital and variables\n",
        "starting_balance = 10000\n",
        "current_balance = starting_balance\n",
        "profits = []  # To store profit over time\n",
        "profit_dates = []  # To store corresponding dates\n",
        "\n",
        "# Process each row in the matched files\n",
        "for _, row in matched_files_df.iterrows():\n",
        "    file_path = row['filename']\n",
        "    target_time = pd.to_datetime(row['time'])\n",
        "    predicted_class = row['predicted_class']\n",
        "\n",
        "    # Load the CSV file\n",
        "    df = pd.read_csv(file_path)\n",
        "    df['time'] = pd.to_datetime(df['time'])\n",
        "\n",
        "    # Ensure target_time exists in the file\n",
        "    if target_time not in df['time'].values:\n",
        "        print(f\"Time {target_time} not found in {file_path}. Skipping.\")\n",
        "        continue\n",
        "\n",
        "    # Get the open price of the target_time\n",
        "    entry_row = df[df['time'] == target_time]\n",
        "    entry_price = entry_row['close'].values[0]  # We enter at the close of the target_time\n",
        "\n",
        "    # Get the close price of the last candle\n",
        "    exit_price = df['close'].iloc[-1]  # We exit at the last candle close\n",
        "\n",
        "    # Calculate profit or loss\n",
        "    if predicted_class == \"bullish_breakout\":\n",
        "        # Buy at entry price, sell at exit price\n",
        "        profit = (exit_price - entry_price) * 100000  # Assuming a position size of 1 lot (100,000 units)\n",
        "    elif predicted_class == \"bearish_breakout\":\n",
        "        # Sell at entry price, buy at exit price\n",
        "        profit = (entry_price - exit_price) * 100000  # Assuming a position size of 1 lot (100,000 units)\n",
        "    else:\n",
        "        continue  # Skip if the predicted_class is not bullish_breakout or bearish_breakout\n",
        "\n",
        "    # Update balance\n",
        "    current_balance += profit\n",
        "\n",
        "    # Store the profit and date for graphing\n",
        "    profits.append(current_balance)\n",
        "    profit_dates.append(target_time)\n",
        "\n",
        "# Plot the profit over time\n",
        "plt.figure(figsize=(10, 6))\n",
        "plt.plot(profit_dates, profits, marker='o')\n",
        "plt.title(\"Profit Over Time for GBPAUD\")\n",
        "plt.xlabel(\"Date\")\n",
        "plt.ylabel(\"Account Balance (£)\")\n",
        "plt.grid()\n",
        "plt.show()\n",
        "\n",
        "# Print the final total profit\n",
        "total_profit = current_balance - starting_balance\n",
        "print(f\"Total Profit: £{total_profit:.2f}\")\n"
      ],
      "metadata": {
        "colab": {
          "base_uri": "https://localhost:8080/",
          "height": 582
        },
        "id": "YSGEU1MbEJbB",
        "outputId": "3e0b87b2-1228-4e58-9801-5b65460aa398"
      },
      "execution_count": 68,
      "outputs": [
        {
          "output_type": "display_data",
          "data": {
            "text/plain": [
              "<Figure size 1000x600 with 1 Axes>"
            ],
            "image/png": "[encoded data removed]"
          },
          "metadata": {}
        },
        {
          "output_type": "stream",
          "name": "stdout",
          "text": [
            "Total Profit: £867.00\n"
          ]
        }
      ]
    }
  ]
}